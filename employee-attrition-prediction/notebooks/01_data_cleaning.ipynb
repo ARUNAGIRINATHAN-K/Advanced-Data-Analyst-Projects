{
 "cells": [
  {
   "cell_type": "code",
   "execution_count": 1,
   "id": "6e20e9f8",
   "metadata": {},
   "outputs": [],
   "source": [
    "import pandas as pd"
   ]
  },
  {
   "cell_type": "code",
   "execution_count": 2,
   "id": "5137b7fe",
   "metadata": {},
   "outputs": [],
   "source": [
    "df = pd.read_csv(\"/workspaces/Advanced-Data-Analyst-Projects/employee-attrition-prediction/data/employee_attrition_dataset.csv\")"
   ]
  },
  {
   "cell_type": "code",
   "execution_count": 4,
   "id": "f303d9a4",
   "metadata": {},
   "outputs": [
    {
     "name": "stdout",
     "output_type": "stream",
     "text": [
      "<class 'pandas.core.frame.DataFrame'>\n",
      "RangeIndex: 150 entries, 0 to 149\n",
      "Data columns (total 15 columns):\n",
      " #   Column                 Non-Null Count  Dtype \n",
      "---  ------                 --------------  ----- \n",
      " 0   EmployeeID             150 non-null    int64 \n",
      " 1   Age                    150 non-null    int64 \n",
      " 2   Gender                 150 non-null    object\n",
      " 3   Department             150 non-null    object\n",
      " 4   EducationLevel         150 non-null    object\n",
      " 5   JobRole                150 non-null    object\n",
      " 6   YearsAtCompany         150 non-null    int64 \n",
      " 7   MonthlyIncome          150 non-null    int64 \n",
      " 8   JobSatisfaction        150 non-null    int64 \n",
      " 9   WorkLifeBalance        150 non-null    int64 \n",
      " 10  PerformanceRating      150 non-null    int64 \n",
      " 11  TrainingTimesLastYear  150 non-null    int64 \n",
      " 12  OverTime               150 non-null    object\n",
      " 13  DistanceFromHome       150 non-null    int64 \n",
      " 14  Attrition              150 non-null    object\n",
      "dtypes: int64(9), object(6)\n",
      "memory usage: 17.7+ KB\n"
     ]
    }
   ],
   "source": [
    "df.head()\n",
    "df.info()"
   ]
  },
  {
   "cell_type": "code",
   "execution_count": 5,
   "id": "f00e1aa8",
   "metadata": {},
   "outputs": [],
   "source": [
    "df['Attrition'] = df['Attrition'].map({'Yes': 1, 'No': 0})"
   ]
  },
  {
   "cell_type": "code",
   "execution_count": 6,
   "id": "98c80d40",
   "metadata": {},
   "outputs": [],
   "source": [
    "df['OverTime'] = df['OverTime'].map({'Yes': 1, 'No': 0})"
   ]
  },
  {
   "cell_type": "code",
   "execution_count": 7,
   "id": "b0dcbd54",
   "metadata": {},
   "outputs": [
    {
     "name": "stdout",
     "output_type": "stream",
     "text": [
      "Missing values:\n",
      " EmployeeID               0\n",
      "Age                      0\n",
      "Gender                   0\n",
      "Department               0\n",
      "EducationLevel           0\n",
      "JobRole                  0\n",
      "YearsAtCompany           0\n",
      "MonthlyIncome            0\n",
      "JobSatisfaction          0\n",
      "WorkLifeBalance          0\n",
      "PerformanceRating        0\n",
      "TrainingTimesLastYear    0\n",
      "OverTime                 0\n",
      "DistanceFromHome         0\n",
      "Attrition                0\n",
      "dtype: int64\n"
     ]
    }
   ],
   "source": [
    "print(\"Missing values:\\n\", df.isnull().sum())"
   ]
  }
 ],
 "metadata": {
  "kernelspec": {
   "display_name": "Python 3",
   "language": "python",
   "name": "python3"
  },
  "language_info": {
   "codemirror_mode": {
    "name": "ipython",
    "version": 3
   },
   "file_extension": ".py",
   "mimetype": "text/x-python",
   "name": "python",
   "nbconvert_exporter": "python",
   "pygments_lexer": "ipython3",
   "version": "3.12.1"
  }
 },
 "nbformat": 4,
 "nbformat_minor": 5
}
