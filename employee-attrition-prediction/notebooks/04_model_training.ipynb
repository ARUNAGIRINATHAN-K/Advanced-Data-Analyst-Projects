{
 "cells": [
  {
   "cell_type": "code",
   "execution_count": 1,
   "id": "04ac6661",
   "metadata": {},
   "outputs": [],
   "source": [
    "import numpy as np\n",
    "from sklearn.ensemble import RandomForestClassifier\n",
    "from sklearn.metrics import classification_report, confusion_matrix, roc_auc_score, RocCurveDisplay"
   ]
  },
  {
   "cell_type": "code",
   "execution_count": 2,
   "id": "f22de779",
   "metadata": {},
   "outputs": [],
   "source": [
    "X_train = np.load('/workspaces/Advanced-Data-Analyst-Projects/employee-attrition-prediction/processed/X_train.npy')\n",
    "X_test = np.load('/workspaces/Advanced-Data-Analyst-Projects/employee-attrition-prediction/processed/X_test.npy')\n",
    "y_train = np.load('/workspaces/Advanced-Data-Analyst-Projects/employee-attrition-prediction/processed/y_train.npy')\n",
    "y_test = np.load('/workspaces/Advanced-Data-Analyst-Projects/employee-attrition-prediction/processed/y_test.npy')"
   ]
  }
 ],
 "metadata": {
  "kernelspec": {
   "display_name": "Python 3",
   "language": "python",
   "name": "python3"
  },
  "language_info": {
   "codemirror_mode": {
    "name": "ipython",
    "version": 3
   },
   "file_extension": ".py",
   "mimetype": "text/x-python",
   "name": "python",
   "nbconvert_exporter": "python",
   "pygments_lexer": "ipython3",
   "version": "3.12.1"
  }
 },
 "nbformat": 4,
 "nbformat_minor": 5
}
