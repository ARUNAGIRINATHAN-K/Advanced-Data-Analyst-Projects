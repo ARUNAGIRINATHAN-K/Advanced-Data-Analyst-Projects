{
 "cells": [
  {
   "cell_type": "code",
   "execution_count": 2,
   "id": "52d03e66",
   "metadata": {},
   "outputs": [],
   "source": [
    "import pandas as pd\n",
    "from sklearn.preprocessing import StandardScaler\n",
    "from sklearn.model_selection import train_test_split"
   ]
  },
  {
   "cell_type": "code",
   "execution_count": 3,
   "id": "f9ad6475",
   "metadata": {},
   "outputs": [],
   "source": [
    "df = pd.read_csv(\"/workspaces/Advanced-Data-Analyst-Projects/employee-attrition-prediction/data/employee_cleaned.csv\")"
   ]
  },
  {
   "cell_type": "code",
   "execution_count": 4,
   "id": "8b920901",
   "metadata": {},
   "outputs": [],
   "source": [
    "df['IncomePerYear'] = df['MonthlyIncome'] * 12\n",
    "df['TenureBucket'] = pd.cut(df['YearsAtCompany'], bins=[0, 2, 5, 10, 40], labels=['<2', '2-5', '5-10', '10+'])"
   ]
  },
  {
   "cell_type": "code",
   "execution_count": 5,
   "id": "c1ce41d5",
   "metadata": {},
   "outputs": [],
   "source": [
    "df = pd.get_dummies(df, columns=['TenureBucket'], drop_first=True)"
   ]
  },
  {
   "cell_type": "code",
   "execution_count": 6,
   "id": "beb12090",
   "metadata": {},
   "outputs": [],
   "source": [
    "X = df.drop('Attrition', axis=1)\n",
    "y = df['Attrition']"
   ]
  },
  {
   "cell_type": "code",
   "execution_count": 12,
   "id": "5a88ca5b",
   "metadata": {},
   "outputs": [
    {
     "name": "stdout",
     "output_type": "stream",
     "text": [
      "Categorical columns to encode: ['EducationLevel']\n",
      "✅ Feature engineering completed and data saved.\n"
     ]
    }
   ],
   "source": [
    "# 03_feature_engineering.ipynb\n",
    "\n",
    "import pandas as pd\n",
    "from sklearn.preprocessing import StandardScaler\n",
    "from sklearn.model_selection import train_test_split\n",
    "\n",
    "# Load cleaned dataset\n",
    "df = pd.read_csv(\"/workspaces/Advanced-Data-Analyst-Projects/employee-attrition-prediction/data/employee_cleaned.csv\")\n",
    "\n",
    "# ✅ Ensure all object columns are handled (categoricals)\n",
    "categorical_cols = df.select_dtypes(include='object').columns.tolist()\n",
    "print(\"Categorical columns to encode:\", categorical_cols)\n",
    "\n",
    "# One-hot encode categorical features\n",
    "df = pd.get_dummies(df, columns=categorical_cols, drop_first=True)\n",
    "\n",
    "# Optional: Feature creation\n",
    "df['IncomePerYear'] = df['MonthlyIncome'] * 12\n",
    "df['TenureBucket'] = pd.cut(df['YearsAtCompany'], bins=[0, 2, 5, 10, 40], labels=['<2', '2-5', '5-10', '10+'])\n",
    "df = pd.get_dummies(df, columns=['TenureBucket'], drop_first=True)\n",
    "\n",
    "# Define X and y\n",
    "X = df.drop('Attrition', axis=1)\n",
    "y = df['Attrition']\n",
    "\n",
    "# Standard scaling\n",
    "scaler = StandardScaler()\n",
    "X_scaled = scaler.fit_transform(X)\n",
    "\n",
    "# Split into train-test\n",
    "from sklearn.model_selection import train_test_split\n",
    "import numpy as np\n",
    "X_train, X_test, y_train, y_test = train_test_split(X_scaled, y, test_size=0.2, stratify=y, random_state=42)\n",
    "\n",
    "# Save arrays\n",
    "np.save('/workspaces/Advanced-Data-Analyst-Projects/employee-attrition-prediction/processed/X_train.npy', X_train)\n",
    "np.save('/workspaces/Advanced-Data-Analyst-Projects/employee-attrition-prediction/processed/X_test.npy', X_test)\n",
    "np.save('/workspaces/Advanced-Data-Analyst-Projects/employee-attrition-prediction/processed/y_train.npy', y_train)\n",
    "np.save('/workspaces/Advanced-Data-Analyst-Projects/employee-attrition-prediction/processed/y_test.npy', y_test)\n",
    "\n",
    "print(\"✅ Feature engineering completed and data saved.\")\n"
   ]
  }
 ],
 "metadata": {
  "kernelspec": {
   "display_name": "Python 3",
   "language": "python",
   "name": "python3"
  },
  "language_info": {
   "codemirror_mode": {
    "name": "ipython",
    "version": 3
   },
   "file_extension": ".py",
   "mimetype": "text/x-python",
   "name": "python",
   "nbconvert_exporter": "python",
   "pygments_lexer": "ipython3",
   "version": "3.12.1"
  }
 },
 "nbformat": 4,
 "nbformat_minor": 5
}
