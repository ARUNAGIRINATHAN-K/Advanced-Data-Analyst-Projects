{
 "cells": [
  {
   "cell_type": "code",
   "execution_count": 1,
   "id": "c2f7dcb0",
   "metadata": {},
   "outputs": [],
   "source": [
    "import pandas as pd\n",
    "from sklearn.model_selection import train_test_split\n",
    "from sklearn.ensemble import RandomForestClassifier\n",
    "from sklearn.metrics import classification_report, confusion_matrix"
   ]
  },
  {
   "cell_type": "code",
   "execution_count": 3,
   "id": "12ca3195",
   "metadata": {},
   "outputs": [],
   "source": [
    "df = pd.read_csv('/workspaces/Advanced-Data-Analyst-Projects/supply_chain_disruption_prediction/data/shipments_cleaned.csv')"
   ]
  },
  {
   "cell_type": "code",
   "execution_count": 4,
   "id": "543dcf9d",
   "metadata": {},
   "outputs": [],
   "source": [
    "df['ShipmentDate'] = pd.to_datetime(df['shipmentdate'])\n",
    "df['Month'] = df['ShipmentDate'].dt.month\n",
    "df['Weekday'] = df['ShipmentDate'].dt.weekday"
   ]
  },
  {
   "cell_type": "code",
   "execution_count": 5,
   "id": "b464a532",
   "metadata": {},
   "outputs": [],
   "source": [
    "df['Supplier'] = df['supplier'].astype('category').cat.codes\n",
    "df['Origin'] = df['origin'].astype('category').cat.codes\n",
    "df['Destination'] = df['destination'].astype('category').cat.codes\n",
    "df['ShipmentMode'] = df['shipmentmode'].astype('category').cat.codes"
   ]
  }
 ],
 "metadata": {
  "kernelspec": {
   "display_name": "Python 3",
   "language": "python",
   "name": "python3"
  },
  "language_info": {
   "codemirror_mode": {
    "name": "ipython",
    "version": 3
   },
   "file_extension": ".py",
   "mimetype": "text/x-python",
   "name": "python",
   "nbconvert_exporter": "python",
   "pygments_lexer": "ipython3",
   "version": "3.12.1"
  }
 },
 "nbformat": 4,
 "nbformat_minor": 5
}
