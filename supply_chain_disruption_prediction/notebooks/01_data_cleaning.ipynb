{
 "cells": [
  {
   "cell_type": "code",
   "execution_count": 1,
   "id": "80dd20ee",
   "metadata": {},
   "outputs": [],
   "source": [
    "import pandas as pd"
   ]
  },
  {
   "cell_type": "code",
   "execution_count": 2,
   "id": "30263022",
   "metadata": {},
   "outputs": [],
   "source": [
    "df = pd.read_csv(\"/workspaces/Advanced-Data-Analyst-Projects/supply_chain_disruption_prediction/data/supply_chain_disruption_dataset (1).csv\")"
   ]
  },
  {
   "cell_type": "code",
   "execution_count": 3,
   "id": "ddef5cdb",
   "metadata": {},
   "outputs": [
    {
     "data": {
      "text/html": [
       "<div>\n",
       "<style scoped>\n",
       "    .dataframe tbody tr th:only-of-type {\n",
       "        vertical-align: middle;\n",
       "    }\n",
       "\n",
       "    .dataframe tbody tr th {\n",
       "        vertical-align: top;\n",
       "    }\n",
       "\n",
       "    .dataframe thead th {\n",
       "        text-align: right;\n",
       "    }\n",
       "</style>\n",
       "<table border=\"1\" class=\"dataframe\">\n",
       "  <thead>\n",
       "    <tr style=\"text-align: right;\">\n",
       "      <th></th>\n",
       "      <th>ShipmentID</th>\n",
       "      <th>Supplier</th>\n",
       "      <th>Origin</th>\n",
       "      <th>Destination</th>\n",
       "      <th>ShipmentDate</th>\n",
       "      <th>ExpectedDeliveryDate</th>\n",
       "      <th>DistanceKM</th>\n",
       "      <th>ShipmentMode</th>\n",
       "      <th>WeatherImpact</th>\n",
       "      <th>NewsSentiment</th>\n",
       "      <th>Disruption</th>\n",
       "    </tr>\n",
       "  </thead>\n",
       "  <tbody>\n",
       "    <tr>\n",
       "      <th>0</th>\n",
       "      <td>5001</td>\n",
       "      <td>DeltaLogistics</td>\n",
       "      <td>Mumbai</td>\n",
       "      <td>Berlin</td>\n",
       "      <td>2024-01-01</td>\n",
       "      <td>2024-01-05</td>\n",
       "      <td>2066</td>\n",
       "      <td>Air</td>\n",
       "      <td>Low</td>\n",
       "      <td>Neutral</td>\n",
       "      <td>No</td>\n",
       "    </tr>\n",
       "    <tr>\n",
       "      <th>1</th>\n",
       "      <td>5002</td>\n",
       "      <td>OceanConnect</td>\n",
       "      <td>Mumbai</td>\n",
       "      <td>Berlin</td>\n",
       "      <td>2024-01-02</td>\n",
       "      <td>2024-01-06</td>\n",
       "      <td>8723</td>\n",
       "      <td>Sea</td>\n",
       "      <td>Low</td>\n",
       "      <td>Positive</td>\n",
       "      <td>Yes</td>\n",
       "    </tr>\n",
       "    <tr>\n",
       "      <th>2</th>\n",
       "      <td>5003</td>\n",
       "      <td>QuickShip Inc</td>\n",
       "      <td>Mumbai</td>\n",
       "      <td>New York</td>\n",
       "      <td>2024-01-03</td>\n",
       "      <td>2024-01-07</td>\n",
       "      <td>5380</td>\n",
       "      <td>Air</td>\n",
       "      <td>Low</td>\n",
       "      <td>Neutral</td>\n",
       "      <td>No</td>\n",
       "    </tr>\n",
       "    <tr>\n",
       "      <th>3</th>\n",
       "      <td>5004</td>\n",
       "      <td>OceanConnect</td>\n",
       "      <td>Mumbai</td>\n",
       "      <td>Berlin</td>\n",
       "      <td>2024-01-04</td>\n",
       "      <td>2024-01-08</td>\n",
       "      <td>11636</td>\n",
       "      <td>Air</td>\n",
       "      <td>Medium</td>\n",
       "      <td>Neutral</td>\n",
       "      <td>No</td>\n",
       "    </tr>\n",
       "    <tr>\n",
       "      <th>4</th>\n",
       "      <td>5005</td>\n",
       "      <td>OceanConnect</td>\n",
       "      <td>Delhi</td>\n",
       "      <td>Dubai</td>\n",
       "      <td>2024-01-05</td>\n",
       "      <td>2024-01-09</td>\n",
       "      <td>5107</td>\n",
       "      <td>Sea</td>\n",
       "      <td>Medium</td>\n",
       "      <td>Positive</td>\n",
       "      <td>No</td>\n",
       "    </tr>\n",
       "  </tbody>\n",
       "</table>\n",
       "</div>"
      ],
      "text/plain": [
       "   ShipmentID        Supplier  Origin Destination ShipmentDate  \\\n",
       "0        5001  DeltaLogistics  Mumbai      Berlin   2024-01-01   \n",
       "1        5002    OceanConnect  Mumbai      Berlin   2024-01-02   \n",
       "2        5003   QuickShip Inc  Mumbai    New York   2024-01-03   \n",
       "3        5004    OceanConnect  Mumbai      Berlin   2024-01-04   \n",
       "4        5005    OceanConnect   Delhi       Dubai   2024-01-05   \n",
       "\n",
       "  ExpectedDeliveryDate  DistanceKM ShipmentMode WeatherImpact NewsSentiment  \\\n",
       "0           2024-01-05        2066          Air           Low       Neutral   \n",
       "1           2024-01-06        8723          Sea           Low      Positive   \n",
       "2           2024-01-07        5380          Air           Low       Neutral   \n",
       "3           2024-01-08       11636          Air        Medium       Neutral   \n",
       "4           2024-01-09        5107          Sea        Medium      Positive   \n",
       "\n",
       "  Disruption  \n",
       "0         No  \n",
       "1        Yes  \n",
       "2         No  \n",
       "3         No  \n",
       "4         No  "
      ]
     },
     "execution_count": 3,
     "metadata": {},
     "output_type": "execute_result"
    }
   ],
   "source": [
    "df.head()"
   ]
  },
  {
   "cell_type": "code",
   "execution_count": 4,
   "id": "666588b7",
   "metadata": {},
   "outputs": [],
   "source": [
    "df['ShipmentDate'] = pd.to_datetime(df['ShipmentDate'])\n",
    "df['ExpectedDeliveryDate'] = pd.to_datetime(df['ExpectedDeliveryDate'])"
   ]
  },
  {
   "cell_type": "code",
   "execution_count": 5,
   "id": "fb8c1e54",
   "metadata": {},
   "outputs": [
    {
     "name": "stdout",
     "output_type": "stream",
     "text": [
      "ShipmentID              0\n",
      "Supplier                0\n",
      "Origin                  0\n",
      "Destination             0\n",
      "ShipmentDate            0\n",
      "ExpectedDeliveryDate    0\n",
      "DistanceKM              0\n",
      "ShipmentMode            0\n",
      "WeatherImpact           0\n",
      "NewsSentiment           0\n",
      "Disruption              0\n",
      "dtype: int64\n"
     ]
    }
   ],
   "source": [
    "print(df.isnull().sum())"
   ]
  },
  {
   "cell_type": "code",
   "execution_count": 6,
   "id": "312bf582",
   "metadata": {},
   "outputs": [],
   "source": [
    "df['WeatherImpact'] = df['WeatherImpact'].fillna(0)\n",
    "df['NewsSentiment'] = df['NewsSentiment'].fillna(0)\n",
    "df.dropna(subset=['Supplier', 'Origin', 'Destination'], inplace=True)"
   ]
  },
  {
   "cell_type": "code",
   "execution_count": 7,
   "id": "92b9ecdc",
   "metadata": {},
   "outputs": [],
   "source": [
    "df.columns = df.columns.str.strip().str.replace(' ', '_').str.lower()"
   ]
  }
 ],
 "metadata": {
  "kernelspec": {
   "display_name": "Python 3",
   "language": "python",
   "name": "python3"
  },
  "language_info": {
   "codemirror_mode": {
    "name": "ipython",
    "version": 3
   },
   "file_extension": ".py",
   "mimetype": "text/x-python",
   "name": "python",
   "nbconvert_exporter": "python",
   "pygments_lexer": "ipython3",
   "version": "3.12.1"
  }
 },
 "nbformat": 4,
 "nbformat_minor": 5
}
